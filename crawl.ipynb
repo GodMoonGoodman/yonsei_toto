{
 "cells": [
  {
   "cell_type": "code",
   "execution_count": 1,
   "metadata": {},
   "outputs": [],
   "source": [
    "import requests as req\n",
    "import bs4\n",
    "import sqlite3"
   ]
  },
  {
   "cell_type": "code",
   "execution_count": 2,
   "metadata": {
    "collapsed": true
   },
   "outputs": [],
   "source": [
    "sess= req.Session()"
   ]
  },
  {
   "cell_type": "code",
   "execution_count": 3,
   "metadata": {
    "collapsed": true
   },
   "outputs": [],
   "source": [
    "yshs_hyhg = 20171"
   ]
  },
  {
   "cell_type": "code",
   "execution_count": 4,
   "metadata": {
    "collapsed": true
   },
   "outputs": [],
   "source": [
    "yshs_hakno = \"ENG3008\""
   ]
  },
  {
   "cell_type": "code",
   "execution_count": 5,
   "metadata": {
    "collapsed": true
   },
   "outputs": [],
   "source": [
    "yshs_bb = \"01\""
   ]
  },
  {
   "cell_type": "code",
   "execution_count": 6,
   "metadata": {
    "collapsed": true
   },
   "outputs": [],
   "source": [
    "yshs_sbb = \"00\""
   ]
  },
  {
   "cell_type": "code",
   "execution_count": 7,
   "metadata": {
    "collapsed": true
   },
   "outputs": [],
   "source": [
    "response= sess.post(url=\"http://ysweb.yonsei.ac.kr:8888/curri120601/curri_pop_mileage_result01.jsp\",\n",
    "                    data={\"yshs_domain\":\"H1\", \"yshs_hyhg\":yshs_hyhg, \"yshs_hakno\":yshs_hakno, \"yshs_bb\":yshs_bb, \"yshs_sbb\":yshs_sbb})"
   ]
  },
  {
   "cell_type": "code",
   "execution_count": 8,
   "metadata": {
    "collapsed": true
   },
   "outputs": [],
   "source": [
    "with open('output.html','w') as w:\n",
    "    w.write(response.text)"
   ]
  },
  {
   "cell_type": "code",
   "execution_count": 9,
   "metadata": {
    "collapsed": true
   },
   "outputs": [],
   "source": [
    "text = bs4.BeautifulSoup(response.text, 'html.parser')"
   ]
  },
  {
   "cell_type": "code",
   "execution_count": 10,
   "metadata": {
    "collapsed": true
   },
   "outputs": [],
   "source": [
    "tables = text.find_all('table')"
   ]
  },
  {
   "cell_type": "code",
   "execution_count": 11,
   "metadata": {
    "collapsed": true
   },
   "outputs": [],
   "source": [
    "hakgi = yshs_hyhg\n",
    "\n",
    "basis = tables[1]\n",
    "\n",
    "basis_1 = basis.find_all('tr')[2].find('tr')\n",
    "\n",
    "class_data=basis_1.find_all('td')\n",
    "\n",
    "c_s_l = class_data[0].text\n",
    "\n",
    "c_s_l\n",
    "\n",
    "tit = class_data[1].text\n",
    "\n",
    "qu = class_data[6].text\n",
    "\n",
    "part = class_data[7].text\n",
    "\n",
    "mi = class_data[15].text\n",
    "\n",
    "ma =  class_data[16].text\n",
    "\n",
    "av =  class_data[17].text"
   ]
  },
  {
   "cell_type": "code",
   "execution_count": 12,
   "metadata": {},
   "outputs": [],
   "source": [
    "basis2 = tables[2]\n",
    "\n",
    "basis2_1 = basis.find_all('tr')[2].find('tr')"
   ]
  },
  {
   "cell_type": "code",
   "execution_count": 13,
   "metadata": {},
   "outputs": [],
   "source": [
    "arr = basis2.find_all('tr')"
   ]
  },
  {
   "cell_type": "code",
   "execution_count": 14,
   "metadata": {},
   "outputs": [],
   "source": [
    "arr2 = arr[1].find_all('tr')"
   ]
  },
  {
   "cell_type": "code",
   "execution_count": 15,
   "metadata": {},
   "outputs": [],
   "source": [
    "def yn(yn):\n",
    "    if 'Y' in yn or 'O' in yn:\n",
    "        return 1\n",
    "    else:\n",
    "        return 0"
   ]
  },
  {
   "cell_type": "code",
   "execution_count": 16,
   "metadata": {
    "collapsed": true
   },
   "outputs": [],
   "source": [
    "lowid= -1"
   ]
  },
  {
   "cell_type": "code",
   "execution_count": 17,
   "metadata": {},
   "outputs": [
    {
     "data": {
      "text/plain": [
       "<tr>\n",
       "<td align=\"center\" class=\"BoxText_1_C\">1</td>\n",
       "<td align=\"center\" class=\"BoxText_1_C\">36</td>\n",
       "<td align=\"center\" class=\"BoxText_1_C\">Y (Y)</td>\n",
       "<td align=\"center\" class=\"BoxText_1_C\">3</td>\n",
       "<td align=\"center\" class=\"BoxText_1_C\">N</td>\n",
       "<td align=\"center\" class=\"BoxText_1_C\">Y</td>\n",
       "<td align=\"center\" class=\"BoxText_1_C\">1.0000</td>\n",
       "<td align=\"center\" class=\"BoxText_1_C\">1.0000</td>\n",
       "<td align=\"center\" class=\"BoxText_1_C\">4</td>\n",
       "<td align=\"center\" class=\"BoxText_1_C\">O</td>\n",
       "<td align=\"center\" class=\"BoxText_1_C\"> </td>\n",
       "</tr>"
      ]
     },
     "execution_count": 17,
     "metadata": {},
     "output_type": "execute_result"
    }
   ],
   "source": [
    "arr2[0]"
   ]
  },
  {
   "cell_type": "markdown",
   "metadata": {},
   "source": [
    "arr2[0]"
   ]
  },
  {
   "cell_type": "code",
   "execution_count": 18,
   "metadata": {},
   "outputs": [],
   "source": [
    "try:\n",
    "    conn = sqlite3.connect('db.sqlite')\n",
    "    cur = conn.cursor()\n",
    "    \n",
    "    sql = \"INSERT INTO Class(year_hakgi, code_sec_lab, title, quota, participants, minimum, maximum, average) VALUES (%d, '%s', '%s', %d, %d, %d, %d, %f)\" % (int(hakgi), str(c_s_l), str(tit), int(qu), int(part), int(mi), int(ma), float(av)) \n",
    "    \n",
    "    cur.execute(sql)\n",
    "    \n",
    "    lowid = cur.lastrowid\n",
    "    \n",
    "    conn.commit()\n",
    "except:\n",
    "    print(\"err\")\n",
    "    exit()\n",
    "    "
   ]
  },
  {
   "cell_type": "code",
   "execution_count": 19,
   "metadata": {
    "collapsed": true
   },
   "outputs": [],
   "source": [
    "# conn.close()"
   ]
  },
  {
   "cell_type": "code",
   "execution_count": 20,
   "metadata": {},
   "outputs": [],
   "source": [
    "for row in arr2:\n",
    "    ra = row.find_all('td')[0].text\n",
    "    mile = row.find_all('td')[1].text\n",
    "    ism = row.find_all('td')[2].text\n",
    "    enrol = row.find_all('td')[3].text\n",
    "    gra = row.find_all('td')[4].text\n",
    "    fir = row.find_all('td')[5].text\n",
    "    cre = row.find_all('td')[6].text\n",
    "    prev = row.find_all('td')[7].text\n",
    "    gr = row.find_all('td')[8].text\n",
    "    res = row.find_all('td')[9].text\n",
    "    sql = \"INSERT INTO MileageResult(class_id, rank, mileage, major, enrolled, graduation, first, credit, previous, grade, result) VALUES (%d, %d, %d, %d, %d, %d, %d, %f, %f, %d, %d)\"% (int(lowid), int(ra), int(mile), yn(ism), int(enrol), yn(gra), yn(fir), float(cre), float(prev), int(gr), yn(res))\n",
    "    \n",
    "    cur.execute(sql)\n",
    "conn.commit()"
   ]
  },
  {
   "cell_type": "code",
   "execution_count": 21,
   "metadata": {
    "collapsed": true
   },
   "outputs": [],
   "source": [
    "conn.close()"
   ]
  },
  {
   "cell_type": "code",
   "execution_count": null,
   "metadata": {
    "collapsed": true
   },
   "outputs": [],
   "source": []
  }
 ],
 "metadata": {
  "kernelspec": {
   "display_name": "Python 3",
   "language": "python",
   "name": "python3"
  },
  "language_info": {
   "codemirror_mode": {
    "name": "ipython",
    "version": 3
   },
   "file_extension": ".py",
   "mimetype": "text/x-python",
   "name": "python",
   "nbconvert_exporter": "python",
   "pygments_lexer": "ipython3",
   "version": "3.6.1"
  }
 },
 "nbformat": 4,
 "nbformat_minor": 2
}
